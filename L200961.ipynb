{
 "cells": [
  {
   "cell_type": "markdown",
   "metadata": {
    "id": "TWWLTwYZorzC"
   },
   "source": [
    "# Introduction To Data Science – Assignment 1\n",
    "\n",
    "---\n",
    "\n",
    "### Sections A – B – C – D\n",
    "\n",
    "---\n",
    "\n",
    "***Instructions***\n",
    "\n",
    "Due Date: Sunday 18th September 2022 – 11:59PM\n",
    "\n",
    "Name the file in the format Lyyxxxx and save it as .ipynb (e.g. L201234.ipynb)\n",
    "\n",
    "Submission will be taken on **GitHub and Google Classroom (submit the .ipynb file)** - Instructions to upload onto GitHub are provided in the link https://docs.google.com/document/d/1BR1ULOGeGWJVU6Rr6Qty1FR-quVRZyRvQGII6nEs-wo/edit?usp=sharing\n",
    "\n",
    "After uploading and submitting the .ipynb file onto Google Classroom, also private comment the link to the GitHub repository.\n",
    "\n",
    "All source files needed to complete this assignment can be found on the following Google Drive link https://drive.google.com/drive/folders/1VrkaVcExGWqilSeh50WZe4gUBjmUiJ9b?usp=sharing\n",
    "\n",
    "TA Emails\n",
    "\n",
    "Section A, C - Muhammad Maarij l192347@lhr.nu.edu.pk\n",
    "\n",
    "Section B, D - Hira Ijaz l192377@lhr.nu.edu.pk\n",
    "\n",
    "Happy Coding 😊\n",
    "\n",
    "---"
   ]
  },
  {
   "cell_type": "markdown",
   "metadata": {
    "id": "arB_0r9H0jjC",
    "tags": []
   },
   "source": [
    "---\n",
    "## Question 1\n",
    "---"
   ]
  },
  {
   "cell_type": "markdown",
   "metadata": {
    "id": "qHPTNDy30n99"
   },
   "source": [
    "Define a procedure called \"check_input\" that takes an input as a square list of lists (2D Matrix of N x N) and returns a boolen \"true\" if the input is valid or \"false\" otherwise, according to the following criteria.\n",
    "\n",
    "1. Each coloumn must contain numbers from between 1 and N, with no duplicates.\n",
    "2. Each row must contain numbers from between 1 and N, with no duplicates."
   ]
  },
  {
   "cell_type": "code",
   "execution_count": 1,
   "metadata": {
    "id": "S2_Zic322Lt7"
   },
   "outputs": [],
   "source": [
    "# define procedure here\n",
    "def check_input(arg):\n",
    "    \"\"\"\n",
    "        Param = arg\n",
    "        a list - preferrably 2D \n",
    "        \n",
    "        Returns bool\n",
    "        True if the unique vales by set method set() are equal for whole 2D List\n",
    "        False if otherwise\n",
    "    \"\"\"\n",
    "#     counter variable to check equivalency \n",
    "    count = 0\n",
    "#     iterate over 2D list and copy to a list of unique values\n",
    "    for x in range(len(arg)):\n",
    "        res = list(set(arg[x]))\n",
    "#         Checking \n",
    "        if sorted(res) == sorted(arg[x]):\n",
    "            count += 1\n",
    "\n",
    "#  Outside the loop we can compare           \n",
    "    if count is len(arg):\n",
    "        return True\n",
    "    return False"
   ]
  },
  {
   "cell_type": "code",
   "execution_count": 2,
   "metadata": {
    "id": "wdL9MWgq2ZbP"
   },
   "outputs": [
    {
     "name": "stdout",
     "output_type": "stream",
     "text": [
      "True\n",
      "False\n",
      "True\n"
     ]
    }
   ],
   "source": [
    "# run this block to test code after defining the procedure\n",
    "\n",
    "test1 = [[1, 2, 3],\n",
    "        [2, 3, 1],\n",
    "        [3, 1, 2]]\n",
    "\n",
    "test2 = [[1, 2, 3, 4],\n",
    "        [2, 3, 1, 3],\n",
    "        [3, 1, 2, 3],\n",
    "        [4, 4, 4, 4]]\n",
    "\n",
    "test3 = [['a', 'b', 'c'],\n",
    "        ['b', 'c', 'a'],\n",
    "        ['c', 'a', 'b']]\n",
    "\n",
    "print(check_input(test1)) # must return true\n",
    "print(check_input(test2)) # must return false\n",
    "print(check_input(test3)) # must return false"
   ]
  },
  {
   "cell_type": "markdown",
   "metadata": {
    "id": "4RVTlnhWqOUC",
    "tags": []
   },
   "source": [
    "---\n",
    "## Question 2\n",
    "---"
   ]
  },
  {
   "cell_type": "markdown",
   "metadata": {
    "id": "Uyc7JPtNt0pR"
   },
   "source": [
    "**Part A** - Import the file \"StudentMarkSheet.csv\" as a Pandas DataFrame and print the information for the dataframe"
   ]
  },
  {
   "cell_type": "code",
   "execution_count": 3,
   "metadata": {
    "id": "wYrt7e6Xop2P"
   },
   "outputs": [
    {
     "name": "stdout",
     "output_type": "stream",
     "text": [
      "<class 'pandas.core.frame.DataFrame'>\n",
      "RangeIndex: 200 entries, 0 to 199\n",
      "Data columns (total 4 columns):\n",
      " #   Column        Non-Null Count  Dtype  \n",
      "---  ------        --------------  -----  \n",
      " 0   Student name  200 non-null    object \n",
      " 1   Exam name     199 non-null    object \n",
      " 2   Exam date     200 non-null    object \n",
      " 3   Marks         197 non-null    float64\n",
      "dtypes: float64(1), object(3)\n",
      "memory usage: 6.4+ KB\n",
      "\n"
     ]
    },
    {
     "data": {
      "text/html": [
       "<div>\n",
       "<style scoped>\n",
       "    .dataframe tbody tr th:only-of-type {\n",
       "        vertical-align: middle;\n",
       "    }\n",
       "\n",
       "    .dataframe tbody tr th {\n",
       "        vertical-align: top;\n",
       "    }\n",
       "\n",
       "    .dataframe thead th {\n",
       "        text-align: right;\n",
       "    }\n",
       "</style>\n",
       "<table border=\"1\" class=\"dataframe\">\n",
       "  <thead>\n",
       "    <tr style=\"text-align: right;\">\n",
       "      <th></th>\n",
       "      <th>Student name</th>\n",
       "      <th>Exam name</th>\n",
       "      <th>Exam date</th>\n",
       "      <th>Marks</th>\n",
       "    </tr>\n",
       "  </thead>\n",
       "  <tbody>\n",
       "    <tr>\n",
       "      <th>0</th>\n",
       "      <td>James Walker</td>\n",
       "      <td>Biology</td>\n",
       "      <td>05/06/2016</td>\n",
       "      <td>31.0</td>\n",
       "    </tr>\n",
       "    <tr>\n",
       "      <th>1</th>\n",
       "      <td>Velma Clemons</td>\n",
       "      <td>Biology</td>\n",
       "      <td>05/06/2016</td>\n",
       "      <td>43.0</td>\n",
       "    </tr>\n",
       "    <tr>\n",
       "      <th>2</th>\n",
       "      <td>Kibo Underwood</td>\n",
       "      <td>Biology</td>\n",
       "      <td>05/06/2016</td>\n",
       "      <td>81.0</td>\n",
       "    </tr>\n",
       "    <tr>\n",
       "      <th>3</th>\n",
       "      <td>Louis Mcgee</td>\n",
       "      <td>Biology</td>\n",
       "      <td>05/06/2016</td>\n",
       "      <td>11.0</td>\n",
       "    </tr>\n",
       "    <tr>\n",
       "      <th>4</th>\n",
       "      <td>Phyllis Paul</td>\n",
       "      <td>Biology</td>\n",
       "      <td>05/06/2016</td>\n",
       "      <td>18.0</td>\n",
       "    </tr>\n",
       "  </tbody>\n",
       "</table>\n",
       "</div>"
      ],
      "text/plain": [
       "     Student name Exam name   Exam date  Marks\n",
       "0    James Walker   Biology  05/06/2016   31.0\n",
       "1   Velma Clemons   Biology  05/06/2016   43.0\n",
       "2  Kibo Underwood   Biology  05/06/2016   81.0\n",
       "3     Louis Mcgee   Biology  05/06/2016   11.0\n",
       "4    Phyllis Paul   Biology  05/06/2016   18.0"
      ]
     },
     "execution_count": 3,
     "metadata": {},
     "output_type": "execute_result"
    }
   ],
   "source": [
    "import pandas as pd\n",
    "SMS = pd.read_csv('StudentMarkSheet.csv')\n",
    "SMS.info()\n",
    "print(sep='\\n')\n",
    "SMS.head()"
   ]
  },
  {
   "cell_type": "markdown",
   "metadata": {
    "id": "jIaMvgcft_i0"
   },
   "source": [
    "**Part B** - Remove any rows that do not contain all the data. Also print the following information.\n",
    "\n",
    "1. Number of rows before\n",
    "2. Number of rows containing null data\n",
    "3. Number of rows after"
   ]
  },
  {
   "cell_type": "code",
   "execution_count": 4,
   "metadata": {
    "id": "_ov_SWdxuZUm"
   },
   "outputs": [
    {
     "name": "stdout",
     "output_type": "stream",
     "text": [
      "Student name    200\n",
      "Exam name       199\n",
      "Exam date       200\n",
      "Marks           197\n",
      "dtype: int64\n",
      "            Student name    Exam name   Exam date  Marks\n",
      "47           Ryan Herman    Chemistry  15/06/2016    NaN\n",
      "78         Nelle Skinner  Mathematics  29/07/2016    NaN\n",
      "104            Myra Wall   Philosophy  02/06/2016    NaN\n",
      "188  Demetrius Castaneda          NaN  21/06/2016   67.0\n",
      "Student name    196\n",
      "Exam name       196\n",
      "Exam date       196\n",
      "Marks           196\n",
      "dtype: int64\n"
     ]
    }
   ],
   "source": [
    "print (SMS.count())\n",
    "\n",
    "# subsetting df to get null values and return the columns\n",
    "print(SMS[SMS.isna().any(axis=1)])\n",
    "\n",
    "# processing data, dropna drops all null values\n",
    "SMS = SMS.dropna()\n",
    "print(SMS.count())"
   ]
  },
  {
   "cell_type": "markdown",
   "metadata": {
    "id": "2kd9zAX6wkXM"
   },
   "source": [
    "**Part C** - Print all the marks along with the subject for the student named \"James Walker\""
   ]
  },
  {
   "cell_type": "code",
   "execution_count": 5,
   "metadata": {
    "id": "N0HWJN-PwuSo"
   },
   "outputs": [
    {
     "name": "stdout",
     "output_type": "stream",
     "text": [
      "Student name = James Walker\n",
      "        Exam name  Marks\n",
      "0        Biology   31.0\n",
      "42     Chemistry   61.0\n",
      "71   Mathematics   23.0\n",
      "150      Physics  100.0\n",
      "180    Sociology   73.0\n"
     ]
    }
   ],
   "source": [
    "# I am writing in broken down structure for simplicity\n",
    "print('Student name = James Walker\\n',\n",
    "        SMS[SMS['Student name'] == 'James Walker']\n",
    "              [['Exam name','Marks']]\n",
    "     )"
   ]
  },
  {
   "cell_type": "markdown",
   "metadata": {
    "id": "ts8Y1EXmwzhf"
   },
   "source": [
    "---\n",
    "## Question 3\n",
    "---"
   ]
  },
  {
   "cell_type": "markdown",
   "metadata": {
    "id": "PJENm_hpw3GQ"
   },
   "source": [
    "**Part A** - From the DataFrame created in Question 2, calculate the average marks for each subject"
   ]
  },
  {
   "cell_type": "code",
   "execution_count": 12,
   "metadata": {
    "id": "AxhCtST5xS3L"
   },
   "outputs": [
    {
     "name": "stdout",
     "output_type": "stream",
     "text": [
      "[47.89473684 50.57692308 48.97222222 47.27027027 51.76190476 56.02631579]\n",
      "['Biology' 'Chemistry' 'Mathematics' 'Philosophy' 'Physics' 'Sociology']\n"
     ]
    }
   ],
   "source": [
    "import numpy as np\n",
    "\n",
    "# We subset each exam_name and then subset its marks into ndarrays\n",
    "avg_mark_subject = np.array([\n",
    "        \n",
    "        SMS[SMS['Exam name'] == 'Biology']['Marks'].mean(),\n",
    "        SMS[SMS['Exam name'] == 'Chemistry']['Marks'].mean(),\n",
    "        SMS[SMS['Exam name'] == 'Mathematics']['Marks'].mean(),\n",
    "        SMS[SMS['Exam name'] == 'Philosophy']['Marks'].mean(),\n",
    "        SMS[SMS['Exam name'] == 'Physics']['Marks'].mean(),\n",
    "        SMS[SMS['Exam name'] == 'Sociology']['Marks'].mean(),\n",
    "        \n",
    "\n",
    "])\n",
    "\n",
    "exam_names = np.array(sorted(list(set(SMS['Exam name']))))\n",
    "\n",
    "print(avg_mark_subject)\n",
    "print(exam_names)"
   ]
  },
  {
   "cell_type": "markdown",
   "metadata": {
    "id": "NDlaA7hHxUBc"
   },
   "source": [
    "**Part B** - Using the averages you just calculated, plot a Bar Graph showing the average marks of each subject"
   ]
  },
  {
   "cell_type": "code",
   "execution_count": 16,
   "metadata": {
    "id": "LWoPFZBOyyNn"
   },
   "outputs": [
    {
     "data": {
      "image/png": "[encoded data removed]",
      "text/plain": [
       "<Figure size 432x288 with 1 Axes>"
      ]
     },
     "metadata": {
      "needs_background": "light"
     },
     "output_type": "display_data"
    }
   ],
   "source": [
    "import matplotlib.pyplot as plt\n",
    "\n",
    "plt.bar(exam_names,avg_mark_subject)\n",
    "plt.show()\n"
   ]
  },
  {
   "cell_type": "markdown",
   "metadata": {
    "id": "dWlOSOIs6d1R"
   },
   "source": [
    "---\n",
    "## Question 4\n",
    "---"
   ]
  },
  {
   "cell_type": "markdown",
   "metadata": {
    "id": "b4s-pN4v6kgb"
   },
   "source": [
    "**Part A** - Import the file \"CatData.csv\" and preprocess it to remove any null values"
   ]
  },
  {
   "cell_type": "code",
   "execution_count": null,
   "metadata": {
    "id": "mvZ3xrBV9b1s"
   },
   "outputs": [],
   "source": [
    "CD = pd.read_csv('CatData.csv')\n",
    "CD.info()\n",
    "# NO NULL VALUES WERE FOUND"
   ]
  },
  {
   "cell_type": "markdown",
   "metadata": {
    "id": "bWxuB3ep9SWA"
   },
   "source": [
    "**Part B** - Identify the independant and dependant variables (comment answer below)"
   ]
  },
  {
   "cell_type": "code",
   "execution_count": null,
   "metadata": {
    "id": "TS9tvuRt9cWr"
   },
   "outputs": [],
   "source": [
    "# dependant variable: \n",
    "# mass\n",
    "# independant variable: \n",
    "# tail length"
   ]
  },
  {
   "cell_type": "markdown",
   "metadata": {
    "id": "xPHVA3cX7uk9"
   },
   "source": [
    "**Part C** - Create a linear regression model using sklearn and fit it to the data you just imported\n"
   ]
  },
  {
   "cell_type": "code",
   "execution_count": null,
   "metadata": {
    "id": "WYVNRotH9cyo"
   },
   "outputs": [],
   "source": [
    "#Main function to find the coefficients of Line:\n",
    "def simple_linear_regression(input_feature,output):\n",
    "    \n",
    "    Xi = input_feature\n",
    "    Yi = output\n",
    "    \n",
    "    #Total number of data points:\n",
    "    n = len(Xi)\n",
    "    \n",
    "    #X bar:\n",
    "    Xi_mean = Xi.mean()\n",
    "    \n",
    "    #Y bar:\n",
    "    Yi_mean = Yi.mean()\n",
    "    \n",
    "    #Sum of X:\n",
    "    S_Xi = (Xi).sum()\n",
    "    \n",
    "    #Sum of Y:\n",
    "    S_Yi = (Yi).sum()\n",
    "    \n",
    "    #Sum of (X*Y) multiplied by n:\n",
    "    S_XiYi = ((Xi*Yi).sum())*n\n",
    "    \n",
    "    #Sum of X*Sum of Y:\n",
    "    S_Xi_S_Yi = S_Xi*S_Yi\n",
    "    \n",
    "    #Sum of (X*X) multiplied by n:\n",
    "    S_XiXi = ((Xi*Xi).sum())*n\n",
    "    \n",
    "    #Square of sum of X:\n",
    "    S_Xi_Square = S_Xi*S_Xi\n",
    "    \n",
    "    #SLope:\n",
    "    slope = (S_XiYi- S_Xi_S_Yi) / (S_XiXi-S_Xi_Square)\n",
    "    \n",
    "    #Intercept:\n",
    "    intercept = Yi_mean - slope * Xi_mean\n",
    "    \n",
    "    return slope, intercept\n",
    "\n",
    "ran = int(len(CD)*0.8)\n",
    "train = CD[:ran]\n",
    "test = CD[ran:]\n",
    "\n",
    "actual_slope, actual_intercept = simple_linear_regression(train['Mass (kg)'], train['Tail Length (cm)'])\n",
    "\n",
    "from sklearn.linear_model import LinearRegression\n",
    "\n",
    "train_x = np.array(train[['Mass (kg)']])\n",
    "train_y = np.array(train[['Tail Length (cm)']])\n",
    "\n",
    "reg = LinearRegression().fit(train_x, train_y)\n",
    "\n",
    "coeff = reg.coef_\n",
    "intercept = reg.intercept_\n",
    "\n",
    "\n"
   ]
  },
  {
   "cell_type": "markdown",
   "metadata": {
    "id": "0QMipKhb830G"
   },
   "source": [
    "**Part D** - Print the values for slope and y-intercept"
   ]
  },
  {
   "cell_type": "code",
   "execution_count": null,
   "metadata": {
    "id": "R7cvi3KB9dJh"
   },
   "outputs": [],
   "source": [
    "print('Slope', coeff)\n",
    "print('Y-intercept', intercept)"
   ]
  },
  {
   "cell_type": "markdown",
   "metadata": {
    "id": "IIq-BQYp_i33"
   },
   "source": [
    "**Part E** - Plot a scatter graph of the original data and a regression line on the same figure (example with dummy data shown below)\n",
    "\n",
    "![](https://drive.google.com/uc?export=view&id=1o_NAsNjfx7zAh9m-UjvWB3rta6uraKdY)"
   ]
  },
  {
   "cell_type": "code",
   "execution_count": null,
   "metadata": {
    "id": "jhz8gTYt_lCn"
   },
   "outputs": [],
   "source": [
    "# Original data = most % data alloted = train data\n",
    "\n",
    "# To match the diagram (scatter plot color) I opened docstring of plt.scatter, and c was the color input parameter\n",
    "# help(plt.scatter) // plt.scatter.__doc__ \n",
    "\n",
    "plt.scatter(train['Mass (kg)'], train['Tail Length (cm)'], c='grey')\n",
    "plt.plot(train_x, coeff[0]*train_x + intercept, color='red')\n",
    "plt.xlabel('Mass (kg)'); plt.ylabel('Tail Length (cm)')\n",
    "plt.show()\n",
    "# We have acheived a positive correlation which is good result"
   ]
  }
 ],
 "metadata": {
  "colab": {
   "collapsed_sections": [],
   "provenance": []
  },
  "kernelspec": {
   "display_name": "Python 3 (ipykernel)",
   "language": "python",
   "name": "python3"
  },
  "language_info": {
   "codemirror_mode": {
    "name": "ipython",
    "version": 3
   },
   "file_extension": ".py",
   "mimetype": "text/x-python",
   "name": "python",
   "nbconvert_exporter": "python",
   "pygments_lexer": "ipython3",
   "version": "3.9.7"
  }
 },
 "nbformat": 4,
 "nbformat_minor": 4
}
